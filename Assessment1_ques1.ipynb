{
  "nbformat": 4,
  "nbformat_minor": 0,
  "metadata": {
    "colab": {
      "name": "Assessment1_ques1.ipynb",
      "provenance": [],
      "collapsed_sections": [],
      "authorship_tag": "ABX9TyOdFFA5aNiVy1l+qoj7etco",
      "include_colab_link": true
    },
    "kernelspec": {
      "name": "python3",
      "display_name": "Python 3"
    }
  },
  "cells": [
    {
      "cell_type": "markdown",
      "metadata": {
        "id": "view-in-github",
        "colab_type": "text"
      },
      "source": [
        "<a href=\"https://colab.research.google.com/github/Sheetalm21/deep_learning/blob/assignment_1/Assessment1_ques1.ipynb\" target=\"_parent\"><img src=\"https://colab.research.google.com/assets/colab-badge.svg\" alt=\"Open In Colab\"/></a>"
      ]
    },
    {
      "cell_type": "markdown",
      "metadata": {
        "id": "2zZrMtuu-A5P"
      },
      "source": [
        "Sheetal Mahajan --\r\n",
        "20MAI0066"
      ]
    },
    {
      "cell_type": "code",
      "metadata": {
        "id": "9ebHZoY_PIQv"
      },
      "source": [
        "#Creating Input matrix\r\n",
        "import numpy as np"
      ],
      "execution_count": 1,
      "outputs": []
    },
    {
      "cell_type": "code",
      "metadata": {
        "colab": {
          "base_uri": "https://localhost:8080/"
        },
        "id": "kwg1vs9z-Kmk",
        "outputId": "30fec5d5-2381-4d05-f2bc-da0e975210fc"
      },
      "source": [
        "values = ([2,3],[5,6],[8,9])\r\n",
        "print(\"Training input values without Bias\\n\", values)"
      ],
      "execution_count": 2,
      "outputs": [
        {
          "output_type": "stream",
          "text": [
            "Training input values without Bias\n",
            " ([2, 3], [5, 6], [8, 9])\n"
          ],
          "name": "stdout"
        }
      ]
    },
    {
      "cell_type": "code",
      "metadata": {
        "colab": {
          "base_uri": "https://localhost:8080/"
        },
        "id": "_fMWplGU-qN6",
        "outputId": "de480939-3303-4494-fa8f-e3dbfb96b45b"
      },
      "source": [
        "#Adding Bias to the input values\r\n",
        "test2 = [[-1]] * len(values)\r\n",
        "values = np.concatenate((test2, values), axis = 1)  \r\n",
        "print(\"Training input values with bias in it\\n\",values)"
      ],
      "execution_count": 3,
      "outputs": [
        {
          "output_type": "stream",
          "text": [
            "Training input values with bias in it\n",
            " [[-1  2  3]\n",
            " [-1  5  6]\n",
            " [-1  8  9]]\n"
          ],
          "name": "stdout"
        }
      ]
    },
    {
      "cell_type": "code",
      "metadata": {
        "colab": {
          "base_uri": "https://localhost:8080/"
        },
        "id": "p2UdOVXv-q9o",
        "outputId": "6b7eed8a-129e-48c6-fdcf-2157ff01abb9"
      },
      "source": [
        "#Creating random weights\r\n",
        "m=3     #number of elements in each row of inputs\r\n",
        "n=1 \r\n",
        "weights = np.random.rand(m,n)*0.1 - 0.5\r\n",
        "print(\"Initial random weights\\n\",weights)"
      ],
      "execution_count": 4,
      "outputs": [
        {
          "output_type": "stream",
          "text": [
            "Initial random weights\n",
            " [[-0.48562757]\n",
            " [-0.46266785]\n",
            " [-0.44688997]]\n"
          ],
          "name": "stdout"
        }
      ]
    },
    {
      "cell_type": "code",
      "metadata": {
        "colab": {
          "base_uri": "https://localhost:8080/"
        },
        "id": "-N9WOXA--u4X",
        "outputId": "5c568a1c-9387-43f8-e570-1c6f0a4b61ab"
      },
      "source": [
        "#Target values Matrix\r\n",
        "final = ([0],[1],[1])\r\n",
        "print(\"Training data target values are\\n\", final)"
      ],
      "execution_count": 5,
      "outputs": [
        {
          "output_type": "stream",
          "text": [
            "Training data target values are\n",
            " ([0], [1], [1])\n"
          ],
          "name": "stdout"
        }
      ]
    },
    {
      "cell_type": "code",
      "metadata": {
        "id": "7nqSenZW-56p"
      },
      "source": [
        "#Method for updating weights\r\n",
        "def updateWeights(weights, inputs, activation, targets):\r\n",
        "    eta = 0.25\r\n",
        "    weights += eta*np.dot(np.transpose(inputs), targets - activation)\r\n",
        "    return weights"
      ],
      "execution_count": 6,
      "outputs": []
    },
    {
      "cell_type": "code",
      "metadata": {
        "id": "Nvss5oZe_AV9"
      },
      "source": [
        "#Creating Methods for Learning\r\n",
        "def  prediction (inputs, weights, targets):\r\n",
        "    #representing Activation function with 'ack [[]]' variable\r\n",
        "    ack = [[0]] * len(inputs)\r\n",
        "    for i in range(0, len(inputs)):    \r\n",
        "        for j in range(0,len(weights)):\r\n",
        "            ack[i] += inputs[i][j] * weights[j]\r\n",
        "        ack[i] = np.where(ack[i]>0, 1, 0)\r\n",
        "        #checking values with target\r\n",
        "        if(targets[i] != ack[i]):\r\n",
        "            weights = updateWeights(weights, inputs, ack[i], targets)\r\n",
        "        print(ack[i])\r\n",
        "    return weights"
      ],
      "execution_count": 7,
      "outputs": []
    },
    {
      "cell_type": "code",
      "metadata": {
        "colab": {
          "base_uri": "https://localhost:8080/"
        },
        "id": "rTwGiG3f_FH3",
        "outputId": "67ee2658-d7fe-4897-9347-2af1ab072602"
      },
      "source": [
        "#Training our model and extracting stable weights\r\n",
        "iterations = 5\r\n",
        "for temp in range(0, iterations):\r\n",
        "    print(\"\\nIteration \",temp+1,\"\\n\")\r\n",
        "    weights = prediction(values, weights, final)\r\n",
        "    \r\n",
        "print(\"\\nTrained Weights\\n\", weights)"
      ],
      "execution_count": 8,
      "outputs": [
        {
          "output_type": "stream",
          "text": [
            "\n",
            "Iteration  1 \n",
            "\n",
            "[0]\n",
            "[0]\n",
            "[1]\n",
            "\n",
            "Iteration  2 \n",
            "\n",
            "[1]\n",
            "[1]\n",
            "[1]\n",
            "\n",
            "Iteration  3 \n",
            "\n",
            "[1]\n",
            "[1]\n",
            "[1]\n",
            "\n",
            "Iteration  4 \n",
            "\n",
            "[1]\n",
            "[1]\n",
            "[1]\n",
            "\n",
            "Iteration  5 \n",
            "\n",
            "[1]\n",
            "[1]\n",
            "[1]\n",
            "\n",
            "Trained Weights\n",
            " [[0.01437243]\n",
            " [0.78733215]\n",
            " [0.30311003]]\n"
          ],
          "name": "stdout"
        }
      ]
    },
    {
      "cell_type": "code",
      "metadata": {
        "colab": {
          "base_uri": "https://localhost:8080/"
        },
        "id": "JWg6oYkp_Jv5",
        "outputId": "ac6e20d3-2cca-498d-a2e5-38a4a10057ca"
      },
      "source": [
        "#Testing our own data\r\n",
        "def perceptronPredict(weights, newInput):\r\n",
        "    ac = np.dot(newInput, weights)\r\n",
        "    ac = np.where(ac>0, 1, 0)\r\n",
        "    print(ac)\r\n",
        "\r\n",
        "\r\n",
        "newInput = ([-1.0, 7, 8])\r\n",
        "perceptronPredict(weights, newInput)"
      ],
      "execution_count": 9,
      "outputs": [
        {
          "output_type": "stream",
          "text": [
            "[1]\n"
          ],
          "name": "stdout"
        }
      ]
    },
    {
      "cell_type": "code",
      "metadata": {
        "id": "fxDBB-D7_SKF"
      },
      "source": [
        ""
      ],
      "execution_count": null,
      "outputs": []
    },
    {
      "cell_type": "markdown",
      "metadata": {
        "id": "zs6QYqeD_TQs"
      },
      "source": [
        "https://github.com/Sheetalm21/deep_learning/blob/assignment_1/Assessment1_ques1.ipynb"
      ]
    },
    {
      "cell_type": "code",
      "metadata": {
        "id": "N_1n53HZA-Pu"
      },
      "source": [
        ""
      ],
      "execution_count": null,
      "outputs": []
    }
  ]
}