{
  "nbformat": 4,
  "nbformat_minor": 0,
  "metadata": {
    "colab": {
      "name": "Assessment3_que2.ipynb",
      "provenance": [],
      "collapsed_sections": [],
      "authorship_tag": "ABX9TyNTwBqL2v2FE7leNDKuIctw",
      "include_colab_link": true
    },
    "kernelspec": {
      "name": "python3",
      "display_name": "Python 3"
    },
    "language_info": {
      "name": "python"
    },
    "accelerator": "GPU"
  },
  "cells": [
    {
      "cell_type": "markdown",
      "metadata": {
        "id": "view-in-github",
        "colab_type": "text"
      },
      "source": [
        "<a href=\"https://colab.research.google.com/github/Sheetalm21/deep_learning/blob/assignment_3/Assessment3_que2.ipynb\" target=\"_parent\"><img src=\"https://colab.research.google.com/assets/colab-badge.svg\" alt=\"Open In Colab\"/></a>"
      ]
    },
    {
      "cell_type": "markdown",
      "metadata": {
        "id": "rloznIKbiPPA"
      },
      "source": [
        "# Sheetal Mahajan_20MAI0066\n",
        "\n",
        "\n",
        "Architecture\n",
        "--Convolutional #1 outputs 28x28x6\n",
        "\n",
        "      --Activation any activation function, we will relu\n",
        "\n",
        "--Pooling #1 The output shape should be 14x14x6.\n",
        "\n",
        "--Convolutional #2 outputs 10x10x16.\n",
        "\n",
        "      --Activation any activation function, we will relu\n",
        "--Pooling #2 outputs 5x5x16.\n",
        "\n",
        "    --Flatten Flatten the output shape of the final pooling layer\n",
        "\n",
        "--Fully Connected #1 outputs 120\n",
        "\n",
        "      --Activation any activation function, we will relu\n",
        "\n",
        "--Fully Connected #2 outputs 84\n",
        "\n",
        "      --Activation any activation function, we will relu\n",
        "--Fully Connected (Logits) #3 outpute 10"
      ]
    },
    {
      "cell_type": "markdown",
      "metadata": {
        "id": "hcdc0Obh14Pp"
      },
      "source": [
        "## Downloading Dataset\n"
      ]
    },
    {
      "cell_type": "code",
      "metadata": {
        "id": "WPME2sMMt17u"
      },
      "source": [
        "#mnist data--> Four files are available on this site, http://yann.lecun.com/exdb/mnist/:\n",
        "\n",
        "from requests import get\n",
        "\n",
        "def download_file(url, file_name):\n",
        "    with open(file_name, \"wb\") as file:\n",
        "        response = get(url)\n",
        "        file.write(response.content)"
      ],
      "execution_count": 1,
      "outputs": []
    },
    {
      "cell_type": "code",
      "metadata": {
        "id": "7Z5w5tO4iBfA"
      },
      "source": [
        "download_file('http://yann.lecun.com/exdb/mnist/train-images-idx3-ubyte.gz', 'train-images-idx3-ubyte.gz')\n",
        "download_file('http://yann.lecun.com/exdb/mnist/train-labels-idx1-ubyte.gz', 'train-labels-idx1-ubyte.gz')\n",
        "download_file('http://yann.lecun.com/exdb/mnist/t10k-images-idx3-ubyte.gz', 't10k-images-idx3-ubyte.gz')\n",
        "download_file('http://yann.lecun.com/exdb/mnist/t10k-labels-idx1-ubyte.gz', 't10k-labels-idx1-ubyte.gz')"
      ],
      "execution_count": 2,
      "outputs": []
    },
    {
      "cell_type": "markdown",
      "metadata": {
        "id": "tqYknYpdh15E"
      },
      "source": [
        "## Load the data"
      ]
    },
    {
      "cell_type": "code",
      "metadata": {
        "id": "wvxN2XxUl692"
      },
      "source": [
        "import gzip\n",
        "import numpy as np\n",
        "import pandas as pd\n",
        "from time import time\n",
        "\n",
        "from sklearn.model_selection import train_test_split\n",
        "import tensorflow as tf\n",
        "import keras\n",
        "import keras.layers as layers\n",
        "from keras.models import Sequential\n",
        "from keras.preprocessing.image import ImageDataGenerator\n",
        "from keras.utils.np_utils import to_categorical\n",
        "from keras.callbacks import TensorBoard\n",
        "\n",
        "%matplotlib inline\n",
        "import matplotlib.pyplot as plt\n",
        "import seaborn as sns\n",
        "sns.set()"
      ],
      "execution_count": 3,
      "outputs": []
    },
    {
      "cell_type": "code",
      "metadata": {
        "id": "DPrVYm5XmCro"
      },
      "source": [
        "def read_mnist(images_path: str, labels_path: str):\n",
        "    with gzip.open(labels_path, 'rb') as labelsFile:\n",
        "        labels = np.frombuffer(labelsFile.read(), dtype=np.uint8, offset=8)\n",
        "\n",
        "    with gzip.open(images_path,'rb') as imagesFile:\n",
        "        length = len(labels)\n",
        "        # Load flat 28x28 px images (784 px), and convert them to 28x28 px\n",
        "        features = np.frombuffer(imagesFile.read(), dtype=np.uint8, offset=16) \\\n",
        "                        .reshape(length, 784) \\\n",
        "                        .reshape(length, 28, 28, 1)\n",
        "        \n",
        "    return features, labels"
      ],
      "execution_count": 4,
      "outputs": []
    },
    {
      "cell_type": "code",
      "metadata": {
        "id": "i-G04xupmIM7"
      },
      "source": [
        "train = {}\n",
        "test = {}\n",
        "\n",
        "train['features'], train['labels'] = read_mnist('train-images-idx3-ubyte.gz', 'train-labels-idx1-ubyte.gz')\n",
        "test['features'], test['labels'] = read_mnist('t10k-images-idx3-ubyte.gz', 't10k-labels-idx1-ubyte.gz')"
      ],
      "execution_count": 5,
      "outputs": []
    },
    {
      "cell_type": "markdown",
      "metadata": {
        "id": "2YLTyOzAiLu0"
      },
      "source": [
        "## Explore the dataset"
      ]
    },
    {
      "cell_type": "code",
      "metadata": {
        "colab": {
          "base_uri": "https://localhost:8080/"
        },
        "id": "PBMAzYlNmNUy",
        "outputId": "7e1c65ae-71db-4f48-96aa-037f26747068"
      },
      "source": [
        "print('Number of training images:', train['features'].shape[0])\n",
        "print('Number of test images:', test['features'].shape[0])"
      ],
      "execution_count": 6,
      "outputs": [
        {
          "output_type": "stream",
          "text": [
            "Number of training images: 60000\n",
            "Number of test images: 10000\n"
          ],
          "name": "stdout"
        }
      ]
    },
    {
      "cell_type": "markdown",
      "metadata": {
        "id": "EDcUdZTgiSec"
      },
      "source": [
        "### Displaying some images from dataset"
      ]
    },
    {
      "cell_type": "code",
      "metadata": {
        "id": "B2qdWI3wmVi7"
      },
      "source": [
        "def display_image(position):\n",
        "    image = train['features'][position].squeeze()\n",
        "    plt.title('Example %d. Label: %d' % (position, train['labels'][position]))\n",
        "    plt.imshow(image, cmap=plt.cm.gray_r)"
      ],
      "execution_count": 7,
      "outputs": []
    },
    {
      "cell_type": "code",
      "metadata": {
        "colab": {
          "base_uri": "https://localhost:8080/",
          "height": 284
        },
        "id": "VHn7nb-Fmnnu",
        "outputId": "e821fa1c-a600-4ba7-bb16-32f175267be4"
      },
      "source": [
        "display_image(0)"
      ],
      "execution_count": 8,
      "outputs": [
        {
          "output_type": "display_data",
          "data": {
            "image/png": "[encoded data removed]",
            "text/plain": [
              "<Figure size 432x288 with 1 Axes>"
            ]
          },
          "metadata": {
            "tags": []
          }
        }
      ]
    },
    {
      "cell_type": "code",
      "metadata": {
        "colab": {
          "base_uri": "https://localhost:8080/",
          "height": 284
        },
        "id": "jTudyzdsm0Fp",
        "outputId": "d1e84b0f-3f10-4b5c-9339-37f136487909"
      },
      "source": [
        "display_image(1)"
      ],
      "execution_count": 9,
      "outputs": [
        {
          "output_type": "display_data",
          "data": {
            "image/png": "[encoded data removed]",
            "text/plain": [
              "<Figure size 432x288 with 1 Axes>"
            ]
          },
          "metadata": {
            "tags": []
          }
        }
      ]
    },
    {
      "cell_type": "code",
      "metadata": {
        "colab": {
          "base_uri": "https://localhost:8080/",
          "height": 284
        },
        "id": "MMJ0GGeMm1oA",
        "outputId": "05c3c6c0-0c85-4f7d-de39-2af0b3850f5f"
      },
      "source": [
        "display_image(2)"
      ],
      "execution_count": 10,
      "outputs": [
        {
          "output_type": "display_data",
          "data": {
            "image/png": "[encoded data removed]",
            "text/plain": [
              "<Figure size 432x288 with 1 Axes>"
            ]
          },
          "metadata": {
            "tags": []
          }
        }
      ]
    },
    {
      "cell_type": "code",
      "metadata": {
        "colab": {
          "base_uri": "https://localhost:8080/",
          "height": 284
        },
        "id": "DXwXzUUkm3M7",
        "outputId": "5187e911-bce0-4464-c379-adbdc1a0fee8"
      },
      "source": [
        "display_image(3)"
      ],
      "execution_count": 11,
      "outputs": [
        {
          "output_type": "display_data",
          "data": {
            "image/png": "[encoded data removed]",
            "text/plain": [
              "<Figure size 432x288 with 1 Axes>"
            ]
          },
          "metadata": {
            "tags": []
          }
        }
      ]
    },
    {
      "cell_type": "code",
      "metadata": {
        "colab": {
          "base_uri": "https://localhost:8080/",
          "height": 284
        },
        "id": "nIlalMc9m5aZ",
        "outputId": "400b49d6-4d0a-4f37-9063-f6e09f2ff429"
      },
      "source": [
        "display_image(4)"
      ],
      "execution_count": 12,
      "outputs": [
        {
          "output_type": "display_data",
          "data": {
            "image/png": "[encoded data removed]",
            "text/plain": [
              "<Figure size 432x288 with 1 Axes>"
            ]
          },
          "metadata": {
            "tags": []
          }
        }
      ]
    },
    {
      "cell_type": "markdown",
      "metadata": {
        "id": "6_iZmbh3icE7"
      },
      "source": [
        "### Plotting training data --> labels and count of training data"
      ]
    },
    {
      "cell_type": "code",
      "metadata": {
        "colab": {
          "base_uri": "https://localhost:8080/",
          "height": 359
        },
        "id": "JARMvOHJm6zZ",
        "outputId": "32c01d37-ba5d-4509-8c6d-e0a3abaec90d"
      },
      "source": [
        "train_labels_count = np.unique(train['labels'], return_counts=True)\n",
        "dataframe_train_labels = pd.DataFrame({'Label':train_labels_count[0], 'Count':train_labels_count[1]})\n",
        "dataframe_train_labels"
      ],
      "execution_count": 13,
      "outputs": [
        {
          "output_type": "execute_result",
          "data": {
            "text/html": [
              "<div>\n",
              "<style scoped>\n",
              "    .dataframe tbody tr th:only-of-type {\n",
              "        vertical-align: middle;\n",
              "    }\n",
              "\n",
              "    .dataframe tbody tr th {\n",
              "        vertical-align: top;\n",
              "    }\n",
              "\n",
              "    .dataframe thead th {\n",
              "        text-align: right;\n",
              "    }\n",
              "</style>\n",
              "<table border=\"1\" class=\"dataframe\">\n",
              "  <thead>\n",
              "    <tr style=\"text-align: right;\">\n",
              "      <th></th>\n",
              "      <th>Label</th>\n",
              "      <th>Count</th>\n",
              "    </tr>\n",
              "  </thead>\n",
              "  <tbody>\n",
              "    <tr>\n",
              "      <th>0</th>\n",
              "      <td>0</td>\n",
              "      <td>5923</td>\n",
              "    </tr>\n",
              "    <tr>\n",
              "      <th>1</th>\n",
              "      <td>1</td>\n",
              "      <td>6742</td>\n",
              "    </tr>\n",
              "    <tr>\n",
              "      <th>2</th>\n",
              "      <td>2</td>\n",
              "      <td>5958</td>\n",
              "    </tr>\n",
              "    <tr>\n",
              "      <th>3</th>\n",
              "      <td>3</td>\n",
              "      <td>6131</td>\n",
              "    </tr>\n",
              "    <tr>\n",
              "      <th>4</th>\n",
              "      <td>4</td>\n",
              "      <td>5842</td>\n",
              "    </tr>\n",
              "    <tr>\n",
              "      <th>5</th>\n",
              "      <td>5</td>\n",
              "      <td>5421</td>\n",
              "    </tr>\n",
              "    <tr>\n",
              "      <th>6</th>\n",
              "      <td>6</td>\n",
              "      <td>5918</td>\n",
              "    </tr>\n",
              "    <tr>\n",
              "      <th>7</th>\n",
              "      <td>7</td>\n",
              "      <td>6265</td>\n",
              "    </tr>\n",
              "    <tr>\n",
              "      <th>8</th>\n",
              "      <td>8</td>\n",
              "      <td>5851</td>\n",
              "    </tr>\n",
              "    <tr>\n",
              "      <th>9</th>\n",
              "      <td>9</td>\n",
              "      <td>5949</td>\n",
              "    </tr>\n",
              "  </tbody>\n",
              "</table>\n",
              "</div>"
            ],
            "text/plain": [
              "   Label  Count\n",
              "0      0   5923\n",
              "1      1   6742\n",
              "2      2   5958\n",
              "3      3   6131\n",
              "4      4   5842\n",
              "5      5   5421\n",
              "6      6   5918\n",
              "7      7   6265\n",
              "8      8   5851\n",
              "9      9   5949"
            ]
          },
          "metadata": {
            "tags": []
          },
          "execution_count": 13
        }
      ]
    },
    {
      "cell_type": "markdown",
      "metadata": {
        "id": "wjHVfH0_itrr"
      },
      "source": [
        "### Splitting into training and validation set"
      ]
    },
    {
      "cell_type": "code",
      "metadata": {
        "id": "PNmbXm61nH0Z"
      },
      "source": [
        "validation = {}\n",
        "train['features'], validation['features'], train['labels'], validation['labels'] = train_test_split(train['features'], train['labels'], test_size=0.2, random_state=0)"
      ],
      "execution_count": 14,
      "outputs": []
    },
    {
      "cell_type": "code",
      "metadata": {
        "colab": {
          "base_uri": "https://localhost:8080/"
        },
        "id": "-RSu7r7F5bmZ",
        "outputId": "7ac1e69f-b338-418f-9454-a3a719650395"
      },
      "source": [
        "print('Number of training images:', train['features'].shape[0])\n",
        "print('Number of validation images:', validation['features'].shape[0])"
      ],
      "execution_count": 15,
      "outputs": [
        {
          "output_type": "stream",
          "text": [
            "Number of training images: 48000\n",
            "Number of validation images: 12000\n"
          ],
          "name": "stdout"
        }
      ]
    },
    {
      "cell_type": "code",
      "metadata": {
        "colab": {
          "base_uri": "https://localhost:8080/"
        },
        "id": "5ZU3FHuaIG-p",
        "outputId": "944d03b5-2b24-4257-d01f-b207a5759106"
      },
      "source": [
        "print(\"Image Shape: {}\".format(train['features'][0].shape))"
      ],
      "execution_count": 16,
      "outputs": [
        {
          "output_type": "stream",
          "text": [
            "Image Shape: (28, 28, 1)\n"
          ],
          "name": "stdout"
        }
      ]
    },
    {
      "cell_type": "markdown",
      "metadata": {
        "id": "739D4QJhi_2V"
      },
      "source": [
        "## Preparing input features:\n",
        "The LeNet architecture accepts a 32x32 pixel images as input, mnist data is 28x28 pixels. We simply pad the images with zeros to overcome that."
      ]
    },
    {
      "cell_type": "code",
      "metadata": {
        "colab": {
          "base_uri": "https://localhost:8080/"
        },
        "id": "YPhFMBNVMqFd",
        "outputId": "4f3e5551-88b3-4e0c-d18b-606c82a990a7"
      },
      "source": [
        "# Pad images with 0s\n",
        "train['features']      = np.pad(train['features'], ((0,0),(2,2),(2,2),(0,0)), 'constant')\n",
        "validation['features'] = np.pad(validation['features'], ((0,0),(2,2),(2,2),(0,0)), 'constant')\n",
        "test['features']       = np.pad(test['features'], ((0,0),(2,2),(2,2),(0,0)), 'constant')\n",
        "    \n",
        "print(\"Updated Image Shape: {}\".format(train['features'][0].shape))"
      ],
      "execution_count": 17,
      "outputs": [
        {
          "output_type": "stream",
          "text": [
            "Updated Image Shape: (32, 32, 1)\n"
          ],
          "name": "stdout"
        }
      ]
    },
    {
      "cell_type": "markdown",
      "metadata": {
        "id": "9dITQUo1jLhE"
      },
      "source": [
        "## Implementation:"
      ]
    },
    {
      "cell_type": "code",
      "metadata": {
        "id": "Yut_DDXaHv_6"
      },
      "source": [
        "model = keras.Sequential()\n",
        "model.add(layers.Conv2D(filters=6, kernel_size=(5,5), activation='relu', input_shape=(32, 32, 1)))\n",
        "model.add(layers.MaxPool2D(strides=2))\n",
        "model.add(layers.Conv2D(filters=16, kernel_size=(5,5), padding='valid', activation='relu'))\n",
        "model.add(layers.MaxPool2D(strides=2))\n",
        "model.add(layers.Flatten())\n",
        "model.add(layers.Dense(120, activation='relu'))\n",
        "model.add(layers.Dense(84, activation='relu'))\n",
        "model.add(layers.Dense(10, activation='softmax'))"
      ],
      "execution_count": 23,
      "outputs": []
    },
    {
      "cell_type": "code",
      "metadata": {
        "colab": {
          "base_uri": "https://localhost:8080/"
        },
        "id": "MUiCvURsKjDt",
        "outputId": "2cca2781-861c-4301-aa3f-ec283f23a9ba"
      },
      "source": [
        "model.build()\n",
        "model.summary()"
      ],
      "execution_count": 24,
      "outputs": [
        {
          "output_type": "stream",
          "text": [
            "Model: \"sequential_2\"\n",
            "_________________________________________________________________\n",
            "Layer (type)                 Output Shape              Param #   \n",
            "=================================================================\n",
            "conv2d_4 (Conv2D)            (None, 28, 28, 6)         156       \n",
            "_________________________________________________________________\n",
            "max_pooling2d_4 (MaxPooling2 (None, 14, 14, 6)         0         \n",
            "_________________________________________________________________\n",
            "conv2d_5 (Conv2D)            (None, 10, 10, 16)        2416      \n",
            "_________________________________________________________________\n",
            "max_pooling2d_5 (MaxPooling2 (None, 5, 5, 16)          0         \n",
            "_________________________________________________________________\n",
            "flatten_2 (Flatten)          (None, 400)               0         \n",
            "_________________________________________________________________\n",
            "dense_6 (Dense)              (None, 120)               48120     \n",
            "_________________________________________________________________\n",
            "dense_7 (Dense)              (None, 84)                10164     \n",
            "_________________________________________________________________\n",
            "dense_8 (Dense)              (None, 10)                850       \n",
            "=================================================================\n",
            "Total params: 61,706\n",
            "Trainable params: 61,706\n",
            "Non-trainable params: 0\n",
            "_________________________________________________________________\n"
          ],
          "name": "stdout"
        }
      ]
    },
    {
      "cell_type": "markdown",
      "metadata": {
        "id": "P8pfY6L6jVha"
      },
      "source": [
        "### Checking Accuracy of the model"
      ]
    },
    {
      "cell_type": "code",
      "metadata": {
        "id": "aPbhOtxwJntz"
      },
      "source": [
        "model.compile(loss=keras.losses.categorical_crossentropy, optimizer=keras.optimizers.Adam(), metrics=['accuracy'])"
      ],
      "execution_count": 25,
      "outputs": []
    },
    {
      "cell_type": "code",
      "metadata": {
        "id": "45yCmfEJMJcD"
      },
      "source": [
        "EPOCHS = 150\n",
        "BATCH_SIZE = 150"
      ],
      "execution_count": 26,
      "outputs": []
    },
    {
      "cell_type": "code",
      "metadata": {
        "id": "EX1Ao8ZVMWjx"
      },
      "source": [
        "X_train, y_train = train['features'], to_categorical(train['labels'])\n",
        "X_validation, y_validation = validation['features'], to_categorical(validation['labels'])\n",
        "\n",
        "train_generator = ImageDataGenerator().flow(X_train, y_train, batch_size=BATCH_SIZE)\n",
        "validation_generator = ImageDataGenerator().flow(X_validation, y_validation, batch_size=BATCH_SIZE)"
      ],
      "execution_count": 27,
      "outputs": []
    },
    {
      "cell_type": "code",
      "metadata": {
        "colab": {
          "base_uri": "https://localhost:8080/"
        },
        "id": "M67tKVAKMyJo",
        "outputId": "9bb8bc60-3d40-49e3-aee7-86208f41bba7"
      },
      "source": [
        "print('# of training images:', train['features'].shape[0])\n",
        "print('# of validation images:', validation['features'].shape[0])\n",
        "\n",
        "steps_per_epoch = X_train.shape[0]//BATCH_SIZE\n",
        "validation_steps = X_validation.shape[0]//BATCH_SIZE\n",
        "\n",
        "tensorboard = TensorBoard(log_dir=\"logs/{}\".format(time()))\n",
        "model.fit_generator(train_generator, steps_per_epoch=steps_per_epoch, epochs=EPOCHS, \n",
        "                    validation_data=validation_generator, validation_steps=validation_steps, \n",
        "                    shuffle=True, callbacks=[tensorboard])"
      ],
      "execution_count": 28,
      "outputs": [
        {
          "output_type": "stream",
          "text": [
            "# of training images: 48000\n",
            "# of validation images: 12000\n"
          ],
          "name": "stdout"
        },
        {
          "output_type": "stream",
          "text": [
            "/usr/local/lib/python3.7/dist-packages/tensorflow/python/keras/engine/training.py:1844: UserWarning: `Model.fit_generator` is deprecated and will be removed in a future version. Please use `Model.fit`, which supports generators.\n",
            "  warnings.warn('`Model.fit_generator` is deprecated and '\n"
          ],
          "name": "stderr"
        },
        {
          "output_type": "stream",
          "text": [
            "Epoch 1/150\n",
            "320/320 [==============================] - 35s 9ms/step - loss: 4.1773 - accuracy: 0.7222 - val_loss: 0.2193 - val_accuracy: 0.9407\n",
            "Epoch 2/150\n",
            "320/320 [==============================] - 2s 6ms/step - loss: 0.1617 - accuracy: 0.9533 - val_loss: 0.1395 - val_accuracy: 0.9609\n",
            "Epoch 3/150\n",
            "320/320 [==============================] - 2s 6ms/step - loss: 0.1046 - accuracy: 0.9686 - val_loss: 0.1029 - val_accuracy: 0.9712\n",
            "Epoch 4/150\n",
            "320/320 [==============================] - 2s 6ms/step - loss: 0.0661 - accuracy: 0.9781 - val_loss: 0.1041 - val_accuracy: 0.9709\n",
            "Epoch 5/150\n",
            "320/320 [==============================] - 2s 5ms/step - loss: 0.0523 - accuracy: 0.9836 - val_loss: 0.0872 - val_accuracy: 0.9742\n",
            "Epoch 6/150\n",
            "320/320 [==============================] - 2s 5ms/step - loss: 0.0415 - accuracy: 0.9867 - val_loss: 0.0829 - val_accuracy: 0.9771\n",
            "Epoch 7/150\n",
            "320/320 [==============================] - 2s 5ms/step - loss: 0.0313 - accuracy: 0.9894 - val_loss: 0.0930 - val_accuracy: 0.9757\n",
            "Epoch 8/150\n",
            "320/320 [==============================] - 2s 5ms/step - loss: 0.0294 - accuracy: 0.9897 - val_loss: 0.0867 - val_accuracy: 0.9774\n",
            "Epoch 9/150\n",
            "320/320 [==============================] - 2s 5ms/step - loss: 0.0272 - accuracy: 0.9913 - val_loss: 0.0893 - val_accuracy: 0.9758\n",
            "Epoch 10/150\n",
            "320/320 [==============================] - 2s 5ms/step - loss: 0.0254 - accuracy: 0.9916 - val_loss: 0.0804 - val_accuracy: 0.9812\n",
            "Epoch 11/150\n",
            "320/320 [==============================] - 2s 5ms/step - loss: 0.0199 - accuracy: 0.9929 - val_loss: 0.0980 - val_accuracy: 0.9782\n",
            "Epoch 12/150\n",
            "320/320 [==============================] - 2s 5ms/step - loss: 0.0215 - accuracy: 0.9927 - val_loss: 0.0767 - val_accuracy: 0.9814\n",
            "Epoch 13/150\n",
            "320/320 [==============================] - 2s 5ms/step - loss: 0.0200 - accuracy: 0.9934 - val_loss: 0.0933 - val_accuracy: 0.9801\n",
            "Epoch 14/150\n",
            "320/320 [==============================] - 2s 5ms/step - loss: 0.0171 - accuracy: 0.9941 - val_loss: 0.0809 - val_accuracy: 0.9823\n",
            "Epoch 15/150\n",
            "320/320 [==============================] - 2s 6ms/step - loss: 0.0173 - accuracy: 0.9940 - val_loss: 0.0907 - val_accuracy: 0.9809\n",
            "Epoch 16/150\n",
            "320/320 [==============================] - 2s 6ms/step - loss: 0.0155 - accuracy: 0.9943 - val_loss: 0.0974 - val_accuracy: 0.9806\n",
            "Epoch 17/150\n",
            "320/320 [==============================] - 2s 5ms/step - loss: 0.0184 - accuracy: 0.9943 - val_loss: 0.0829 - val_accuracy: 0.9842\n",
            "Epoch 18/150\n",
            "320/320 [==============================] - 2s 5ms/step - loss: 0.0158 - accuracy: 0.9948 - val_loss: 0.0828 - val_accuracy: 0.9813\n",
            "Epoch 19/150\n",
            "320/320 [==============================] - 2s 5ms/step - loss: 0.0151 - accuracy: 0.9956 - val_loss: 0.0876 - val_accuracy: 0.9826\n",
            "Epoch 20/150\n",
            "320/320 [==============================] - 2s 5ms/step - loss: 0.0170 - accuracy: 0.9943 - val_loss: 0.1053 - val_accuracy: 0.9794\n",
            "Epoch 21/150\n",
            "320/320 [==============================] - 2s 5ms/step - loss: 0.0178 - accuracy: 0.9942 - val_loss: 0.0783 - val_accuracy: 0.9833\n",
            "Epoch 22/150\n",
            "320/320 [==============================] - 2s 6ms/step - loss: 0.0154 - accuracy: 0.9949 - val_loss: 0.0928 - val_accuracy: 0.9825\n",
            "Epoch 23/150\n",
            "320/320 [==============================] - 2s 5ms/step - loss: 0.0132 - accuracy: 0.9958 - val_loss: 0.0772 - val_accuracy: 0.9847\n",
            "Epoch 24/150\n",
            "320/320 [==============================] - 2s 5ms/step - loss: 0.0118 - accuracy: 0.9966 - val_loss: 0.0834 - val_accuracy: 0.9836\n",
            "Epoch 25/150\n",
            "320/320 [==============================] - 2s 5ms/step - loss: 0.0090 - accuracy: 0.9970 - val_loss: 0.0917 - val_accuracy: 0.9816\n",
            "Epoch 26/150\n",
            "320/320 [==============================] - 2s 5ms/step - loss: 0.0131 - accuracy: 0.9953 - val_loss: 0.0801 - val_accuracy: 0.9843\n",
            "Epoch 27/150\n",
            "320/320 [==============================] - 2s 5ms/step - loss: 0.0125 - accuracy: 0.9961 - val_loss: 0.1047 - val_accuracy: 0.9796\n",
            "Epoch 28/150\n",
            "320/320 [==============================] - 2s 5ms/step - loss: 0.0149 - accuracy: 0.9954 - val_loss: 0.0805 - val_accuracy: 0.9859\n",
            "Epoch 29/150\n",
            "320/320 [==============================] - 2s 5ms/step - loss: 0.0114 - accuracy: 0.9964 - val_loss: 0.0872 - val_accuracy: 0.9824\n",
            "Epoch 30/150\n",
            "320/320 [==============================] - 2s 5ms/step - loss: 0.0200 - accuracy: 0.9946 - val_loss: 0.0841 - val_accuracy: 0.9856\n",
            "Epoch 31/150\n",
            "320/320 [==============================] - 2s 5ms/step - loss: 0.0057 - accuracy: 0.9978 - val_loss: 0.0913 - val_accuracy: 0.9841\n",
            "Epoch 32/150\n",
            "320/320 [==============================] - 2s 5ms/step - loss: 0.0099 - accuracy: 0.9967 - val_loss: 0.0781 - val_accuracy: 0.9870\n",
            "Epoch 33/150\n",
            "320/320 [==============================] - 2s 5ms/step - loss: 0.0121 - accuracy: 0.9966 - val_loss: 0.0871 - val_accuracy: 0.9849\n",
            "Epoch 34/150\n",
            "320/320 [==============================] - 2s 6ms/step - loss: 0.0109 - accuracy: 0.9965 - val_loss: 0.0924 - val_accuracy: 0.9846\n",
            "Epoch 35/150\n",
            "320/320 [==============================] - 2s 5ms/step - loss: 0.0087 - accuracy: 0.9974 - val_loss: 0.1049 - val_accuracy: 0.9834\n",
            "Epoch 36/150\n",
            "320/320 [==============================] - 2s 5ms/step - loss: 0.0103 - accuracy: 0.9968 - val_loss: 0.0964 - val_accuracy: 0.9855\n",
            "Epoch 37/150\n",
            "320/320 [==============================] - 2s 6ms/step - loss: 0.0138 - accuracy: 0.9958 - val_loss: 0.0888 - val_accuracy: 0.9862\n",
            "Epoch 38/150\n",
            "320/320 [==============================] - 2s 5ms/step - loss: 0.0085 - accuracy: 0.9979 - val_loss: 0.0861 - val_accuracy: 0.9868\n",
            "Epoch 39/150\n",
            "320/320 [==============================] - 2s 5ms/step - loss: 0.0116 - accuracy: 0.9969 - val_loss: 0.0831 - val_accuracy: 0.9862\n",
            "Epoch 40/150\n",
            "320/320 [==============================] - 2s 6ms/step - loss: 0.0053 - accuracy: 0.9984 - val_loss: 0.1093 - val_accuracy: 0.9864\n",
            "Epoch 41/150\n",
            "320/320 [==============================] - 2s 5ms/step - loss: 0.0111 - accuracy: 0.9971 - val_loss: 0.1087 - val_accuracy: 0.9818\n",
            "Epoch 42/150\n",
            "320/320 [==============================] - 2s 5ms/step - loss: 0.0130 - accuracy: 0.9958 - val_loss: 0.0914 - val_accuracy: 0.9869\n",
            "Epoch 43/150\n",
            "320/320 [==============================] - 2s 6ms/step - loss: 0.0073 - accuracy: 0.9979 - val_loss: 0.1275 - val_accuracy: 0.9840\n",
            "Epoch 44/150\n",
            "320/320 [==============================] - 2s 5ms/step - loss: 0.0134 - accuracy: 0.9967 - val_loss: 0.0930 - val_accuracy: 0.9871\n",
            "Epoch 45/150\n",
            "320/320 [==============================] - 2s 5ms/step - loss: 0.0041 - accuracy: 0.9990 - val_loss: 0.0980 - val_accuracy: 0.9868\n",
            "Epoch 46/150\n",
            "320/320 [==============================] - 2s 5ms/step - loss: 0.0048 - accuracy: 0.9984 - val_loss: 0.1185 - val_accuracy: 0.9857\n",
            "Epoch 47/150\n",
            "320/320 [==============================] - 2s 5ms/step - loss: 0.0186 - accuracy: 0.9953 - val_loss: 0.0909 - val_accuracy: 0.9877\n",
            "Epoch 48/150\n",
            "320/320 [==============================] - 2s 6ms/step - loss: 0.0021 - accuracy: 0.9992 - val_loss: 0.1415 - val_accuracy: 0.9812\n",
            "Epoch 49/150\n",
            "320/320 [==============================] - 2s 5ms/step - loss: 0.0167 - accuracy: 0.9964 - val_loss: 0.1179 - val_accuracy: 0.9843\n",
            "Epoch 50/150\n",
            "320/320 [==============================] - 2s 5ms/step - loss: 0.0125 - accuracy: 0.9967 - val_loss: 0.0861 - val_accuracy: 0.9882\n",
            "Epoch 51/150\n",
            "320/320 [==============================] - 2s 6ms/step - loss: 0.0030 - accuracy: 0.9988 - val_loss: 0.1121 - val_accuracy: 0.9870\n",
            "Epoch 52/150\n",
            "320/320 [==============================] - 2s 5ms/step - loss: 0.0044 - accuracy: 0.9989 - val_loss: 0.0997 - val_accuracy: 0.9872\n",
            "Epoch 53/150\n",
            "320/320 [==============================] - 2s 5ms/step - loss: 0.0100 - accuracy: 0.9977 - val_loss: 0.1024 - val_accuracy: 0.9861\n",
            "Epoch 54/150\n",
            "320/320 [==============================] - 2s 5ms/step - loss: 0.0077 - accuracy: 0.9978 - val_loss: 0.1087 - val_accuracy: 0.9871\n",
            "Epoch 55/150\n",
            "320/320 [==============================] - 2s 5ms/step - loss: 0.0102 - accuracy: 0.9977 - val_loss: 0.1124 - val_accuracy: 0.9864\n",
            "Epoch 56/150\n",
            "320/320 [==============================] - 2s 6ms/step - loss: 0.0097 - accuracy: 0.9970 - val_loss: 0.1047 - val_accuracy: 0.9862\n",
            "Epoch 57/150\n",
            "320/320 [==============================] - 2s 6ms/step - loss: 0.0101 - accuracy: 0.9968 - val_loss: 0.1153 - val_accuracy: 0.9856\n",
            "Epoch 58/150\n",
            "320/320 [==============================] - 2s 5ms/step - loss: 0.0107 - accuracy: 0.9975 - val_loss: 0.1320 - val_accuracy: 0.9837\n",
            "Epoch 59/150\n",
            "320/320 [==============================] - 2s 6ms/step - loss: 0.0052 - accuracy: 0.9986 - val_loss: 0.1080 - val_accuracy: 0.9873\n",
            "Epoch 60/150\n",
            "320/320 [==============================] - 2s 6ms/step - loss: 0.0107 - accuracy: 0.9968 - val_loss: 0.1076 - val_accuracy: 0.9865\n",
            "Epoch 61/150\n",
            "320/320 [==============================] - 2s 5ms/step - loss: 0.0078 - accuracy: 0.9982 - val_loss: 0.1061 - val_accuracy: 0.9865\n",
            "Epoch 62/150\n",
            "320/320 [==============================] - 2s 5ms/step - loss: 0.0064 - accuracy: 0.9986 - val_loss: 0.1157 - val_accuracy: 0.9859\n",
            "Epoch 63/150\n",
            "320/320 [==============================] - 2s 5ms/step - loss: 0.0069 - accuracy: 0.9984 - val_loss: 0.1081 - val_accuracy: 0.9877\n",
            "Epoch 64/150\n",
            "320/320 [==============================] - 2s 5ms/step - loss: 0.0025 - accuracy: 0.9994 - val_loss: 0.1113 - val_accuracy: 0.9883\n",
            "Epoch 65/150\n",
            "320/320 [==============================] - 2s 6ms/step - loss: 0.0054 - accuracy: 0.9986 - val_loss: 0.1092 - val_accuracy: 0.9877\n",
            "Epoch 66/150\n",
            "320/320 [==============================] - 2s 5ms/step - loss: 0.0071 - accuracy: 0.9981 - val_loss: 0.1495 - val_accuracy: 0.9861\n",
            "Epoch 67/150\n",
            "320/320 [==============================] - 2s 6ms/step - loss: 0.0118 - accuracy: 0.9977 - val_loss: 0.1152 - val_accuracy: 0.9857\n",
            "Epoch 68/150\n",
            "320/320 [==============================] - 2s 5ms/step - loss: 0.0055 - accuracy: 0.9984 - val_loss: 0.1085 - val_accuracy: 0.9876\n",
            "Epoch 69/150\n",
            "320/320 [==============================] - 2s 6ms/step - loss: 0.0091 - accuracy: 0.9985 - val_loss: 0.1113 - val_accuracy: 0.9870\n",
            "Epoch 70/150\n",
            "320/320 [==============================] - 2s 6ms/step - loss: 0.0063 - accuracy: 0.9984 - val_loss: 0.1080 - val_accuracy: 0.9877\n",
            "Epoch 71/150\n",
            "320/320 [==============================] - 2s 6ms/step - loss: 0.0042 - accuracy: 0.9988 - val_loss: 0.1214 - val_accuracy: 0.9884\n",
            "Epoch 72/150\n",
            "320/320 [==============================] - 2s 5ms/step - loss: 0.0063 - accuracy: 0.9986 - val_loss: 0.1398 - val_accuracy: 0.9862\n",
            "Epoch 73/150\n",
            "320/320 [==============================] - 2s 6ms/step - loss: 0.0168 - accuracy: 0.9969 - val_loss: 0.1525 - val_accuracy: 0.9848\n",
            "Epoch 74/150\n",
            "320/320 [==============================] - 2s 5ms/step - loss: 0.0145 - accuracy: 0.9973 - val_loss: 0.1225 - val_accuracy: 0.9872\n",
            "Epoch 75/150\n",
            "320/320 [==============================] - 2s 6ms/step - loss: 0.0036 - accuracy: 0.9989 - val_loss: 0.1397 - val_accuracy: 0.9896\n",
            "Epoch 76/150\n",
            "320/320 [==============================] - 2s 6ms/step - loss: 0.0078 - accuracy: 0.9984 - val_loss: 0.1206 - val_accuracy: 0.9890\n",
            "Epoch 77/150\n",
            "320/320 [==============================] - 2s 6ms/step - loss: 0.0013 - accuracy: 0.9997 - val_loss: 0.1365 - val_accuracy: 0.9872\n",
            "Epoch 78/150\n",
            "320/320 [==============================] - 2s 6ms/step - loss: 0.0117 - accuracy: 0.9969 - val_loss: 0.1494 - val_accuracy: 0.9858\n",
            "Epoch 79/150\n",
            "320/320 [==============================] - 2s 6ms/step - loss: 0.0114 - accuracy: 0.9975 - val_loss: 0.1222 - val_accuracy: 0.9859\n",
            "Epoch 80/150\n",
            "320/320 [==============================] - 2s 6ms/step - loss: 0.0035 - accuracy: 0.9990 - val_loss: 0.1266 - val_accuracy: 0.9860\n",
            "Epoch 81/150\n",
            "320/320 [==============================] - 2s 6ms/step - loss: 0.0090 - accuracy: 0.9980 - val_loss: 0.1396 - val_accuracy: 0.9858\n",
            "Epoch 82/150\n",
            "320/320 [==============================] - 2s 6ms/step - loss: 0.0079 - accuracy: 0.9984 - val_loss: 0.1356 - val_accuracy: 0.9863\n",
            "Epoch 83/150\n",
            "320/320 [==============================] - 2s 6ms/step - loss: 0.0051 - accuracy: 0.9989 - val_loss: 0.1175 - val_accuracy: 0.9879\n",
            "Epoch 84/150\n",
            "320/320 [==============================] - 2s 5ms/step - loss: 0.0028 - accuracy: 0.9993 - val_loss: 0.1300 - val_accuracy: 0.9865\n",
            "Epoch 85/150\n",
            "320/320 [==============================] - 2s 5ms/step - loss: 0.0071 - accuracy: 0.9984 - val_loss: 0.1306 - val_accuracy: 0.9877\n",
            "Epoch 86/150\n",
            "320/320 [==============================] - 2s 6ms/step - loss: 0.0018 - accuracy: 0.9996 - val_loss: 0.1125 - val_accuracy: 0.9876\n",
            "Epoch 87/150\n",
            "320/320 [==============================] - 2s 6ms/step - loss: 0.0038 - accuracy: 0.9989 - val_loss: 0.1716 - val_accuracy: 0.9853\n",
            "Epoch 88/150\n",
            "320/320 [==============================] - 2s 6ms/step - loss: 0.0055 - accuracy: 0.9984 - val_loss: 0.1769 - val_accuracy: 0.9843\n",
            "Epoch 89/150\n",
            "320/320 [==============================] - 2s 6ms/step - loss: 0.0116 - accuracy: 0.9974 - val_loss: 0.1311 - val_accuracy: 0.9868\n",
            "Epoch 90/150\n",
            "320/320 [==============================] - 2s 5ms/step - loss: 0.0036 - accuracy: 0.9991 - val_loss: 0.1457 - val_accuracy: 0.9858\n",
            "Epoch 91/150\n",
            "320/320 [==============================] - 2s 6ms/step - loss: 0.0073 - accuracy: 0.9985 - val_loss: 0.1307 - val_accuracy: 0.9877\n",
            "Epoch 92/150\n",
            "320/320 [==============================] - 2s 6ms/step - loss: 0.0025 - accuracy: 0.9995 - val_loss: 0.1247 - val_accuracy: 0.9875\n",
            "Epoch 93/150\n",
            "320/320 [==============================] - 2s 5ms/step - loss: 0.0027 - accuracy: 0.9993 - val_loss: 0.1342 - val_accuracy: 0.9871\n",
            "Epoch 94/150\n",
            "320/320 [==============================] - 2s 5ms/step - loss: 0.0104 - accuracy: 0.9983 - val_loss: 0.1375 - val_accuracy: 0.9877\n",
            "Epoch 95/150\n",
            "320/320 [==============================] - 2s 5ms/step - loss: 0.0036 - accuracy: 0.9990 - val_loss: 0.1211 - val_accuracy: 0.9877\n",
            "Epoch 96/150\n",
            "320/320 [==============================] - 2s 5ms/step - loss: 0.0013 - accuracy: 0.9995 - val_loss: 0.1426 - val_accuracy: 0.9868\n",
            "Epoch 97/150\n",
            "320/320 [==============================] - 2s 5ms/step - loss: 0.0088 - accuracy: 0.9982 - val_loss: 0.1169 - val_accuracy: 0.9877\n",
            "Epoch 98/150\n",
            "320/320 [==============================] - 2s 6ms/step - loss: 0.0042 - accuracy: 0.9988 - val_loss: 0.1419 - val_accuracy: 0.9865\n",
            "Epoch 99/150\n",
            "320/320 [==============================] - 2s 6ms/step - loss: 0.0018 - accuracy: 0.9997 - val_loss: 0.1456 - val_accuracy: 0.9876\n",
            "Epoch 100/150\n",
            "320/320 [==============================] - 2s 6ms/step - loss: 0.0020 - accuracy: 0.9994 - val_loss: 0.1607 - val_accuracy: 0.9884\n",
            "Epoch 101/150\n",
            "320/320 [==============================] - 2s 6ms/step - loss: 0.0120 - accuracy: 0.9984 - val_loss: 0.1536 - val_accuracy: 0.9855\n",
            "Epoch 102/150\n",
            "320/320 [==============================] - 2s 5ms/step - loss: 0.0132 - accuracy: 0.9974 - val_loss: 0.1258 - val_accuracy: 0.9889\n",
            "Epoch 103/150\n",
            "320/320 [==============================] - 2s 6ms/step - loss: 0.0038 - accuracy: 0.9990 - val_loss: 0.1456 - val_accuracy: 0.9883\n",
            "Epoch 104/150\n",
            "320/320 [==============================] - 2s 6ms/step - loss: 0.0014 - accuracy: 0.9996 - val_loss: 0.1443 - val_accuracy: 0.9881\n",
            "Epoch 105/150\n",
            "320/320 [==============================] - 2s 6ms/step - loss: 0.0021 - accuracy: 0.9996 - val_loss: 0.1714 - val_accuracy: 0.9862\n",
            "Epoch 106/150\n",
            "320/320 [==============================] - 2s 6ms/step - loss: 0.0126 - accuracy: 0.9978 - val_loss: 0.1665 - val_accuracy: 0.9866\n",
            "Epoch 107/150\n",
            "320/320 [==============================] - 2s 6ms/step - loss: 0.0056 - accuracy: 0.9985 - val_loss: 0.2355 - val_accuracy: 0.9812\n",
            "Epoch 108/150\n",
            "320/320 [==============================] - 2s 6ms/step - loss: 0.0124 - accuracy: 0.9979 - val_loss: 0.1590 - val_accuracy: 0.9874\n",
            "Epoch 109/150\n",
            "320/320 [==============================] - 2s 6ms/step - loss: 0.0065 - accuracy: 0.9986 - val_loss: 0.1615 - val_accuracy: 0.9884\n",
            "Epoch 110/150\n",
            "320/320 [==============================] - 2s 6ms/step - loss: 0.0017 - accuracy: 0.9997 - val_loss: 0.1459 - val_accuracy: 0.9897\n",
            "Epoch 111/150\n",
            "320/320 [==============================] - 2s 6ms/step - loss: 0.0059 - accuracy: 0.9989 - val_loss: 0.1558 - val_accuracy: 0.9890\n",
            "Epoch 112/150\n",
            "320/320 [==============================] - 2s 6ms/step - loss: 0.0014 - accuracy: 0.9997 - val_loss: 0.1870 - val_accuracy: 0.9873\n",
            "Epoch 113/150\n",
            "320/320 [==============================] - 2s 6ms/step - loss: 0.0131 - accuracy: 0.9975 - val_loss: 0.1481 - val_accuracy: 0.9877\n",
            "Epoch 114/150\n",
            "320/320 [==============================] - 2s 6ms/step - loss: 0.0050 - accuracy: 0.9990 - val_loss: 0.1838 - val_accuracy: 0.9859\n",
            "Epoch 115/150\n",
            "320/320 [==============================] - 2s 6ms/step - loss: 0.0068 - accuracy: 0.9989 - val_loss: 0.1492 - val_accuracy: 0.9874\n",
            "Epoch 116/150\n",
            "320/320 [==============================] - 2s 6ms/step - loss: 0.0025 - accuracy: 0.9994 - val_loss: 0.2001 - val_accuracy: 0.9871\n",
            "Epoch 117/150\n",
            "320/320 [==============================] - 2s 6ms/step - loss: 0.0048 - accuracy: 0.9988 - val_loss: 0.1824 - val_accuracy: 0.9875\n",
            "Epoch 118/150\n",
            "320/320 [==============================] - 2s 6ms/step - loss: 0.0075 - accuracy: 0.9989 - val_loss: 0.1656 - val_accuracy: 0.9883\n",
            "Epoch 119/150\n",
            "320/320 [==============================] - 2s 6ms/step - loss: 0.0054 - accuracy: 0.9993 - val_loss: 0.1550 - val_accuracy: 0.9883\n",
            "Epoch 120/150\n",
            "320/320 [==============================] - 2s 6ms/step - loss: 0.0041 - accuracy: 0.9994 - val_loss: 0.1532 - val_accuracy: 0.9887\n",
            "Epoch 121/150\n",
            "320/320 [==============================] - 2s 6ms/step - loss: 0.0019 - accuracy: 0.9994 - val_loss: 0.2109 - val_accuracy: 0.9877\n",
            "Epoch 122/150\n",
            "320/320 [==============================] - 2s 6ms/step - loss: 0.0081 - accuracy: 0.9981 - val_loss: 0.1651 - val_accuracy: 0.9892\n",
            "Epoch 123/150\n",
            "320/320 [==============================] - 2s 6ms/step - loss: 0.0085 - accuracy: 0.9985 - val_loss: 0.1937 - val_accuracy: 0.9860\n",
            "Epoch 124/150\n",
            "320/320 [==============================] - 2s 6ms/step - loss: 0.0079 - accuracy: 0.9983 - val_loss: 0.1816 - val_accuracy: 0.9873\n",
            "Epoch 125/150\n",
            "320/320 [==============================] - 2s 6ms/step - loss: 0.0099 - accuracy: 0.9987 - val_loss: 0.1875 - val_accuracy: 0.9881\n",
            "Epoch 126/150\n",
            "320/320 [==============================] - 2s 6ms/step - loss: 0.0048 - accuracy: 0.9990 - val_loss: 0.1855 - val_accuracy: 0.9887\n",
            "Epoch 127/150\n",
            "320/320 [==============================] - 2s 6ms/step - loss: 0.0074 - accuracy: 0.9988 - val_loss: 0.1658 - val_accuracy: 0.9898\n",
            "Epoch 128/150\n",
            "320/320 [==============================] - 2s 6ms/step - loss: 0.0037 - accuracy: 0.9991 - val_loss: 0.1671 - val_accuracy: 0.9900\n",
            "Epoch 129/150\n",
            "320/320 [==============================] - 2s 6ms/step - loss: 0.0012 - accuracy: 0.9996 - val_loss: 0.1836 - val_accuracy: 0.9893\n",
            "Epoch 130/150\n",
            "320/320 [==============================] - 2s 6ms/step - loss: 0.0075 - accuracy: 0.9990 - val_loss: 0.1699 - val_accuracy: 0.9877\n",
            "Epoch 131/150\n",
            "320/320 [==============================] - 2s 6ms/step - loss: 0.0066 - accuracy: 0.9988 - val_loss: 0.1773 - val_accuracy: 0.9880\n",
            "Epoch 132/150\n",
            "320/320 [==============================] - 2s 6ms/step - loss: 0.0063 - accuracy: 0.9989 - val_loss: 0.1869 - val_accuracy: 0.9889\n",
            "Epoch 133/150\n",
            "320/320 [==============================] - 2s 6ms/step - loss: 0.0044 - accuracy: 0.9992 - val_loss: 0.2104 - val_accuracy: 0.9848\n",
            "Epoch 134/150\n",
            "320/320 [==============================] - 2s 6ms/step - loss: 0.0045 - accuracy: 0.9988 - val_loss: 0.1806 - val_accuracy: 0.9872\n",
            "Epoch 135/150\n",
            "320/320 [==============================] - 2s 6ms/step - loss: 0.0017 - accuracy: 0.9995 - val_loss: 0.1607 - val_accuracy: 0.9882\n",
            "Epoch 136/150\n",
            "320/320 [==============================] - 2s 6ms/step - loss: 4.9501e-04 - accuracy: 0.9999 - val_loss: 0.1634 - val_accuracy: 0.9887\n",
            "Epoch 137/150\n",
            "320/320 [==============================] - 2s 6ms/step - loss: 7.4936e-04 - accuracy: 0.9997 - val_loss: 0.2432 - val_accuracy: 0.9873\n",
            "Epoch 138/150\n",
            "320/320 [==============================] - 2s 6ms/step - loss: 0.0117 - accuracy: 0.9982 - val_loss: 0.1981 - val_accuracy: 0.9875\n",
            "Epoch 139/150\n",
            "320/320 [==============================] - 2s 6ms/step - loss: 0.0074 - accuracy: 0.9989 - val_loss: 0.1941 - val_accuracy: 0.9886\n",
            "Epoch 140/150\n",
            "320/320 [==============================] - 2s 6ms/step - loss: 0.0075 - accuracy: 0.9988 - val_loss: 0.1911 - val_accuracy: 0.9865\n",
            "Epoch 141/150\n",
            "320/320 [==============================] - 2s 6ms/step - loss: 0.0091 - accuracy: 0.9985 - val_loss: 0.2073 - val_accuracy: 0.9876\n",
            "Epoch 142/150\n",
            "320/320 [==============================] - 2s 6ms/step - loss: 0.0098 - accuracy: 0.9989 - val_loss: 0.2033 - val_accuracy: 0.9892\n",
            "Epoch 143/150\n",
            "320/320 [==============================] - 2s 6ms/step - loss: 0.0019 - accuracy: 0.9996 - val_loss: 0.2044 - val_accuracy: 0.9887\n",
            "Epoch 144/150\n",
            "320/320 [==============================] - 2s 6ms/step - loss: 0.0044 - accuracy: 0.9993 - val_loss: 0.1696 - val_accuracy: 0.9891\n",
            "Epoch 145/150\n",
            "320/320 [==============================] - 2s 6ms/step - loss: 0.0115 - accuracy: 0.9982 - val_loss: 0.1646 - val_accuracy: 0.9892\n",
            "Epoch 146/150\n",
            "320/320 [==============================] - 2s 6ms/step - loss: 0.0116 - accuracy: 0.9984 - val_loss: 0.1909 - val_accuracy: 0.9886\n",
            "Epoch 147/150\n",
            "320/320 [==============================] - 2s 6ms/step - loss: 0.0062 - accuracy: 0.9988 - val_loss: 0.2249 - val_accuracy: 0.9876\n",
            "Epoch 148/150\n",
            "320/320 [==============================] - 2s 6ms/step - loss: 0.0045 - accuracy: 0.9993 - val_loss: 0.2292 - val_accuracy: 0.9880\n",
            "Epoch 149/150\n",
            "320/320 [==============================] - 2s 6ms/step - loss: 0.0113 - accuracy: 0.9985 - val_loss: 0.2073 - val_accuracy: 0.9890\n",
            "Epoch 150/150\n",
            "320/320 [==============================] - 2s 6ms/step - loss: 0.0094 - accuracy: 0.9987 - val_loss: 0.2300 - val_accuracy: 0.9872\n"
          ],
          "name": "stdout"
        },
        {
          "output_type": "execute_result",
          "data": {
            "text/plain": [
              "<tensorflow.python.keras.callbacks.History at 0x7f35b002f490>"
            ]
          },
          "metadata": {
            "tags": []
          },
          "execution_count": 28
        }
      ]
    },
    {
      "cell_type": "code",
      "metadata": {
        "colab": {
          "base_uri": "https://localhost:8080/"
        },
        "id": "H4FJEcvgM1N3",
        "outputId": "828ba501-e733-4de9-9432-2a517444cf23"
      },
      "source": [
        "score = model.evaluate(test['features'], to_categorical(test['labels']))\n",
        "print('Test loss:', score[0])\n",
        "print('Test accuracy:', score[1])"
      ],
      "execution_count": 29,
      "outputs": [
        {
          "output_type": "stream",
          "text": [
            "313/313 [==============================] - 1s 2ms/step - loss: 0.1837 - accuracy: 0.9877\n",
            "Test loss: 0.18366175889968872\n",
            "Test accuracy: 0.9876999855041504\n"
          ],
          "name": "stdout"
        }
      ]
    },
    {
      "cell_type": "code",
      "metadata": {
        "id": "FVPc2VLFOGvG"
      },
      "source": [
        ""
      ],
      "execution_count": null,
      "outputs": []
    }
  ]
}