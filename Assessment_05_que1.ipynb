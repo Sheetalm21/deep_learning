{
  "nbformat": 4,
  "nbformat_minor": 0,
  "metadata": {
    "colab": {
      "name": "Assessment_05_que1.ipynb",
      "provenance": [],
      "collapsed_sections": [],
      "authorship_tag": "ABX9TyMcg0Von6g88UMUBxvsWAvi"
    },
    "kernelspec": {
      "name": "python3",
      "display_name": "Python 3"
    },
    "language_info": {
      "name": "python"
    },
    "accelerator": "GPU"
  },
  "cells": [
    {
      "cell_type": "markdown",
      "metadata": {
        "id": "ctaXzuy5D3dt"
      },
      "source": [
        "## Sheetal Mahajan_20MAI0066\n",
        "## Recurrent Neural Network:\n",
        "Recurrent Neural Network(RNN) are a type of Neural Network where the output from previous step are fed as input to the current step. In traditional neural networks, all the inputs and outputs are independent of each other, but in cases like when it is required to predict the next word of a sentence, the previous words are required and hence there is a need to remember the previous words. Thus RNN came into existence, which solved this issue with the help of a Hidden Layer. The main and most important feature of RNN is Hidden state, which remembers some information about a sequence.RNN have a “memory” which remembers all information about what has been calculated. It uses the same parameters for each input as it performs the same task on all the inputs or hidden layers to produce the output. This reduces the complexity of parameters, unlike other neural networks."
      ]
    },
    {
      "cell_type": "markdown",
      "metadata": {
        "id": "z9tWFf-aELTf"
      },
      "source": [
        "### Data prepration"
      ]
    },
    {
      "cell_type": "code",
      "metadata": {
        "colab": {
          "base_uri": "https://localhost:8080/"
        },
        "id": "xeeLPfQ3DyUk",
        "outputId": "3a027e8e-a23c-418a-b3bd-f3ad088e26e5"
      },
      "source": [
        "%pylab inline\n",
        "import math"
      ],
      "execution_count": 1,
      "outputs": [
        {
          "output_type": "stream",
          "text": [
            "Populating the interactive namespace from numpy and matplotlib\n"
          ],
          "name": "stdout"
        }
      ]
    },
    {
      "cell_type": "code",
      "metadata": {
        "id": "JT1JBEdVEKZv"
      },
      "source": [
        "sin_wave = np.array([math.sin(x) for x in np.arange(200)])"
      ],
      "execution_count": 2,
      "outputs": []
    },
    {
      "cell_type": "code",
      "metadata": {
        "colab": {
          "base_uri": "https://localhost:8080/",
          "height": 282
        },
        "id": "EUwK7zBWEXrm",
        "outputId": "b1b8f634-7c1b-4eb5-afa3-558d1e61c883"
      },
      "source": [
        "plt.plot(sin_wave[:60])"
      ],
      "execution_count": 3,
      "outputs": [
        {
          "output_type": "execute_result",
          "data": {
            "text/plain": [
              "[<matplotlib.lines.Line2D at 0x7f6203551cd0>]"
            ]
          },
          "metadata": {
            "tags": []
          },
          "execution_count": 3
        },
        {
          "output_type": "display_data",
          "data": {
            "image/png": "[encoded data removed]",
            "text/plain": [
              "<Figure size 432x288 with 1 Axes>"
            ]
          },
          "metadata": {
            "tags": [],
            "needs_background": "light"
          }
        }
      ]
    },
    {
      "cell_type": "code",
      "metadata": {
        "id": "IZqEPbmhEaoZ"
      },
      "source": [
        "X = []\n",
        "Y = []\n",
        "\n",
        "seq_len = 60\n",
        "num_records = len(sin_wave) - seq_len\n",
        "\n",
        "for i in range(num_records - 50):\n",
        "    X.append(sin_wave[i:i+seq_len])\n",
        "    Y.append(sin_wave[i+seq_len])\n",
        "    \n",
        "X = np.array(X)\n",
        "X = np.expand_dims(X, axis=2)\n",
        "\n",
        "Y = np.array(Y)\n",
        "Y = np.expand_dims(Y, axis=1)"
      ],
      "execution_count": 5,
      "outputs": []
    },
    {
      "cell_type": "code",
      "metadata": {
        "colab": {
          "base_uri": "https://localhost:8080/"
        },
        "id": "8HiJOrIuEeIr",
        "outputId": "f3da3557-45b7-48cb-b64f-f1ba9c2d1b7f"
      },
      "source": [
        "X.shape, Y.shape"
      ],
      "execution_count": 6,
      "outputs": [
        {
          "output_type": "execute_result",
          "data": {
            "text/plain": [
              "((90, 60, 1), (90, 1))"
            ]
          },
          "metadata": {
            "tags": []
          },
          "execution_count": 6
        }
      ]
    },
    {
      "cell_type": "code",
      "metadata": {
        "id": "DcrqSE8pEha5"
      },
      "source": [
        "X_val = []\n",
        "Y_val = []\n",
        "\n",
        "for i in range(num_records - 60, num_records):\n",
        "    X_val.append(sin_wave[i:i+seq_len])\n",
        "    Y_val.append(sin_wave[i+seq_len])\n",
        "    \n",
        "X_val = np.array(X_val)\n",
        "X_val = np.expand_dims(X_val, axis=2)\n",
        "\n",
        "Y_val = np.array(Y_val)\n",
        "Y_val = np.expand_dims(Y_val, axis=1)"
      ],
      "execution_count": 7,
      "outputs": []
    },
    {
      "cell_type": "markdown",
      "metadata": {
        "id": "ZVAvzZbZEouh"
      },
      "source": [
        "### Creating architecture for RNN"
      ]
    },
    {
      "cell_type": "code",
      "metadata": {
        "id": "63VXZrp9EluC"
      },
      "source": [
        "learning_rate = 0.0001    \n",
        "nepoch = 55               \n",
        "T = 60   # length of sequence\n",
        "hidden_dim = 100         \n",
        "output_dim = 1\n",
        "\n",
        "bptt_truncate = 5\n",
        "min_clip_value = -10\n",
        "max_clip_value = 10"
      ],
      "execution_count": 12,
      "outputs": []
    },
    {
      "cell_type": "code",
      "metadata": {
        "id": "dNKyLnLYExhK"
      },
      "source": [
        "U = np.random.uniform(0, 1, (hidden_dim, T))\n",
        "W = np.random.uniform(0, 1, (hidden_dim, hidden_dim))\n",
        "V = np.random.uniform(0, 1, (output_dim, hidden_dim))"
      ],
      "execution_count": 13,
      "outputs": []
    },
    {
      "cell_type": "code",
      "metadata": {
        "id": "2HnEs2-4EzvC"
      },
      "source": [
        "def sigmoid(x):\n",
        "    return 1 / (1 + np.exp(-x))"
      ],
      "execution_count": 14,
      "outputs": []
    },
    {
      "cell_type": "markdown",
      "metadata": {
        "id": "zDPv7GK2E6ze"
      },
      "source": [
        "### Train the model"
      ]
    },
    {
      "cell_type": "code",
      "metadata": {
        "id": "u5Bt9uxNE13d"
      },
      "source": [
        "#Check the loss on the training data\n",
        "for epoch in range(nepoch):\n",
        "    # check loss on train\n",
        "    loss = 0.0\n",
        "    \n",
        "    # do a forward pass to get prediction\n",
        "    for i in range(Y.shape[0]):\n",
        "        x, y = X[i], Y[i]                    # get input, output values of each record\n",
        "        prev_s = np.zeros((hidden_dim, 1))   # here, prev-s is the value of the previous activation of hidden layer; which is initialized as all zeroes\n",
        "        for t in range(T):\n",
        "            new_input = np.zeros(x.shape)    # we then do a forward pass for every timestep in the sequence\n",
        "            new_input[t] = x[t]              # for this, we define a single input for that timestep\n",
        "            mulu = np.dot(U, new_input)\n",
        "            mulw = np.dot(W, prev_s)\n",
        "            add = mulw + mulu\n",
        "            s = sigmoid(add)\n",
        "            mulv = np.dot(V, s)\n",
        "            prev_s = s\n",
        "\n",
        "    # calculate error \n",
        "        loss_per_record = (y - mulv)**2 / 2\n",
        "        loss += loss_per_record\n",
        "    loss = loss / float(y.shape[0])"
      ],
      "execution_count": 15,
      "outputs": []
    },
    {
      "cell_type": "code",
      "metadata": {
        "colab": {
          "base_uri": "https://localhost:8080/"
        },
        "id": "c-67jcOdFAzK",
        "outputId": "4baa2492-540b-4428-c230-b46e3054fc19"
      },
      "source": [
        "#Check the loss on validation data\n",
        "\n",
        "# check loss on val\n",
        "val_loss = 0.0\n",
        "for i in range(Y_val.shape[0]):\n",
        "    x, y = X_val[i], Y_val[i]\n",
        "    prev_s = np.zeros((hidden_dim, 1))\n",
        "    for t in range(T):\n",
        "        new_input = np.zeros(x.shape)\n",
        "        new_input[t] = x[t]\n",
        "        mulu = np.dot(U, new_input)\n",
        "        mulw = np.dot(W, prev_s)\n",
        "        add = mulw + mulu\n",
        "        s = sigmoid(add)\n",
        "        mulv = np.dot(V, s)\n",
        "        prev_s = s\n",
        "\n",
        "    loss_per_record = (y - mulv)**2 / 2\n",
        "    val_loss += loss_per_record\n",
        "val_loss = val_loss / float(y.shape[0])\n",
        "\n",
        "print('Epoch: ', epoch + 1, ', Loss: ', loss, ', Val Loss: ', val_loss)"
      ],
      "execution_count": 16,
      "outputs": [
        {
          "output_type": "stream",
          "text": [
            "Epoch:  55 , Loss:  [[140079.20179779]] , Val Loss:  [[93320.89935971]]\n"
          ],
          "name": "stdout"
        }
      ]
    },
    {
      "cell_type": "code",
      "metadata": {
        "id": "z3vKJVA_FPgy"
      },
      "source": [
        "#Forward Pass\n",
        "\n",
        "# train model\n",
        "for i in range(Y.shape[0]):\n",
        "    x, y = X[i], Y[i]\n",
        "    \n",
        "    layers = []\n",
        "    prev_s = np.zeros((hidden_dim, 1))\n",
        "    dU = np.zeros(U.shape)\n",
        "    dV = np.zeros(V.shape)\n",
        "    dW = np.zeros(W.shape)\n",
        "        \n",
        "    dU_t = np.zeros(U.shape)\n",
        "    dV_t = np.zeros(V.shape)\n",
        "    dW_t = np.zeros(W.shape)\n",
        "        \n",
        "    dU_i = np.zeros(U.shape)\n",
        "    dW_i = np.zeros(W.shape)\n",
        "        \n",
        "    # forward pass\n",
        "    for t in range(T):\n",
        "        new_input = np.zeros(x.shape)\n",
        "        new_input[t] = x[t]\n",
        "        mulu = np.dot(U, new_input)\n",
        "        mulw = np.dot(W, prev_s)\n",
        "        add = mulw + mulu\n",
        "        s = sigmoid(add)\n",
        "        mulv = np.dot(V, s)\n",
        "        layers.append({'s':s, 'prev_s':prev_s})\n",
        "        prev_s = s"
      ],
      "execution_count": 17,
      "outputs": []
    },
    {
      "cell_type": "code",
      "metadata": {
        "id": "MMimor3kFXUJ"
      },
      "source": [
        "#Back propogate error\n",
        "\n",
        "# derivative of pred\n",
        "dmulv = (mulv - y)\n",
        "        \n",
        "# backward pass\n",
        "for t in range(T):\n",
        "    dV_t = np.dot(dmulv, np.transpose(layers[t]['s']))\n",
        "    dsv = np.dot(np.transpose(V), dmulv)\n",
        "            \n",
        "    ds = dsv\n",
        "    dadd = add * (1 - add) * ds\n",
        "            \n",
        "    dmulw = dadd * np.ones_like(mulw)\n",
        "\n",
        "    dprev_s = np.dot(np.transpose(W), dmulw)\n",
        "\n",
        "\n",
        "    for i in range(t-1, max(-1, t-bptt_truncate-1), -1):\n",
        "        ds = dsv + dprev_s\n",
        "        dadd = add * (1 - add) * ds\n",
        "\n",
        "        dmulw = dadd * np.ones_like(mulw)\n",
        "        dmulu = dadd * np.ones_like(mulu)\n",
        "\n",
        "        dW_i = np.dot(W, layers[t]['prev_s'])\n",
        "        dprev_s = np.dot(np.transpose(W), dmulw)\n",
        "\n",
        "        new_input = np.zeros(x.shape)\n",
        "        new_input[t] = x[t]\n",
        "        dU_i = np.dot(U, new_input)\n",
        "        dx = np.dot(np.transpose(U), dmulu)\n",
        "\n",
        "        dU_t += dU_i\n",
        "        dW_t += dW_i\n",
        "                \n",
        "    dV += dV_t\n",
        "    dU += dU_t\n",
        "    dW += dW_t"
      ],
      "execution_count": 18,
      "outputs": []
    },
    {
      "cell_type": "code",
      "metadata": {
        "id": "jHxKI50yFeCa"
      },
      "source": [
        "#Update Weights\n",
        "\n",
        "if dU.max() > max_clip_value:\n",
        "    dU[dU > max_clip_value] = max_clip_value\n",
        "if dV.max() > max_clip_value:\n",
        "    dV[dV > max_clip_value] = max_clip_value\n",
        "if dW.max() > max_clip_value:\n",
        "    dW[dW > max_clip_value] = max_clip_value\n",
        "                \n",
        "            \n",
        "if dU.min() < min_clip_value:\n",
        "    dU[dU < min_clip_value] = min_clip_value\n",
        "if dV.min() < min_clip_value:\n",
        "    dV[dV < min_clip_value] = min_clip_value\n",
        "if dW.min() < min_clip_value:\n",
        "    dW[dW < min_clip_value] = min_clip_value\n",
        "        \n",
        "# update\n",
        "U -= learning_rate * dU\n",
        "V -= learning_rate * dV\n",
        "W -= learning_rate * dW"
      ],
      "execution_count": 19,
      "outputs": []
    },
    {
      "cell_type": "code",
      "metadata": {
        "colab": {
          "base_uri": "https://localhost:8080/"
        },
        "id": "sd32py4VFixH",
        "outputId": "19f2a5b3-b45e-436a-e2e7-493c5617cf5f"
      },
      "source": [
        "# Train Model\n",
        "\n",
        "# check loss on val\n",
        "val_loss = 0.0\n",
        "for i in range(Y_val.shape[0]):\n",
        "    x, y = X_val[i], Y_val[i]\n",
        "    prev_s = np.zeros((hidden_dim, 1))\n",
        "    for t in range(T):\n",
        "        new_input = np.zeros(x.shape)\n",
        "        new_input[t] = x[t]\n",
        "        mulu = np.dot(U, new_input)\n",
        "        mulw = np.dot(W, prev_s)\n",
        "        add = mulw + mulu\n",
        "        s = sigmoid(add)\n",
        "        mulv = np.dot(V, s)\n",
        "        prev_s = s\n",
        "\n",
        "        loss_per_record = (y - mulv)**2 / 2\n",
        "    val_loss += loss_per_record\n",
        "val_loss = val_loss / float(y.shape[0])\n",
        "\n",
        "print('Epoch: ', epoch + 1, ', \\nLoss: ', loss, ', \\nVal Loss: ', val_loss)"
      ],
      "execution_count": 20,
      "outputs": [
        {
          "output_type": "stream",
          "text": [
            "Epoch:  55 , \n",
            "Loss:  [[140079.20179779]] , \n",
            "Val Loss:  [[92986.58469168]]\n"
          ],
          "name": "stdout"
        }
      ]
    },
    {
      "cell_type": "markdown",
      "metadata": {
        "id": "2gBNFUhaFws-"
      },
      "source": [
        "### Prediction:"
      ]
    },
    {
      "cell_type": "code",
      "metadata": {
        "id": "7JHFHCTMFr3p"
      },
      "source": [
        "preds = []\n",
        "for i in range(Y.shape[0]):\n",
        "    x, y = X[i], Y[i]\n",
        "    prev_s = np.zeros((hidden_dim, 1))\n",
        "    # Forward pass\n",
        "    for t in range(T):\n",
        "        mulu = np.dot(U, x)\n",
        "        mulw = np.dot(W, prev_s)\n",
        "        add = mulw + mulu\n",
        "        s = sigmoid(add)\n",
        "        mulv = np.dot(V, s)\n",
        "        prev_s = s\n",
        "\n",
        "    preds.append(mulv)\n",
        "    \n",
        "preds = np.array(preds)"
      ],
      "execution_count": 21,
      "outputs": []
    },
    {
      "cell_type": "code",
      "metadata": {
        "colab": {
          "base_uri": "https://localhost:8080/",
          "height": 265
        },
        "id": "FfEzPWAuF0FD",
        "outputId": "deb6a877-0e46-4ea4-a33d-c81aadadbbe5"
      },
      "source": [
        "plt.plot(preds[:, 0, 0], 'r')\n",
        "plt.plot(Y[:, 0], 'g')\n",
        "plt.show()"
      ],
      "execution_count": 22,
      "outputs": [
        {
          "output_type": "display_data",
          "data": {
            "image/png": "[encoded data removed]",
            "text/plain": [
              "<Figure size 432x288 with 1 Axes>"
            ]
          },
          "metadata": {
            "tags": [],
            "needs_background": "light"
          }
        }
      ]
    },
    {
      "cell_type": "code",
      "metadata": {
        "colab": {
          "base_uri": "https://localhost:8080/",
          "height": 265
        },
        "id": "EYWw4UqJF4dv",
        "outputId": "0176aea7-99b4-494f-c299-2ec9ab3faf5d"
      },
      "source": [
        "preds = []\n",
        "for i in range(Y_val.shape[0]):\n",
        "    x, y = X_val[i], Y_val[i]\n",
        "    prev_s = np.zeros((hidden_dim, 1))\n",
        "    # For each time step...\n",
        "    for t in range(T):\n",
        "        mulu = np.dot(U, x)\n",
        "        mulw = np.dot(W, prev_s)\n",
        "        add = mulw + mulu\n",
        "        s = sigmoid(add)\n",
        "        mulv = np.dot(V, s)\n",
        "        prev_s = s\n",
        "\n",
        "    preds.append(mulv)\n",
        "    \n",
        "preds = np.array(preds)\n",
        "\n",
        "plt.plot(preds[:, 0, 0], 'r')\n",
        "plt.plot(Y_val[:, 0], 'g')\n",
        "plt.show()"
      ],
      "execution_count": 23,
      "outputs": [
        {
          "output_type": "display_data",
          "data": {
            "image/png": "[encoded data removed]",
            "text/plain": [
              "<Figure size 432x288 with 1 Axes>"
            ]
          },
          "metadata": {
            "tags": [],
            "needs_background": "light"
          }
        }
      ]
    },
    {
      "cell_type": "code",
      "metadata": {
        "id": "HoHVN2JzF9kv"
      },
      "source": [
        ""
      ],
      "execution_count": null,
      "outputs": []
    }
  ]
}